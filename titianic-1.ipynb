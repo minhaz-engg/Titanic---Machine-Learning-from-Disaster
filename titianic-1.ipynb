{
 "cells": [
  {
   "cell_type": "code",
   "execution_count": 1,
   "id": "41304b5c",
   "metadata": {
    "_cell_guid": "b1076dfc-b9ad-4769-8c92-a6c4dae69d19",
    "_uuid": "8f2839f25d086af736a60e9eeb907d3b93b6e0e5",
    "execution": {
     "iopub.execute_input": "2022-05-18T17:36:25.044145Z",
     "iopub.status.busy": "2022-05-18T17:36:25.043081Z",
     "iopub.status.idle": "2022-05-18T17:36:26.752563Z",
     "shell.execute_reply": "2022-05-18T17:36:26.751451Z"
    },
    "papermill": {
     "duration": 1.721744,
     "end_time": "2022-05-18T17:36:26.755560",
     "exception": false,
     "start_time": "2022-05-18T17:36:25.033816",
     "status": "completed"
    },
    "tags": []
   },
   "outputs": [],
   "source": [
    "import pandas as pd\n",
    "import numpy as np\n",
    "import random as rnd\n",
    "\n",
    "import seaborn as sns\n",
    "import matplotlib.pyplot as plt\n",
    "%matplotlib inline\n",
    "\n",
    "# machine learning\n",
    "from sklearn.linear_model import LogisticRegression\n",
    "from sklearn.svm import SVC, LinearSVC\n",
    "from sklearn.ensemble import RandomForestClassifier\n",
    "from sklearn.neighbors import KNeighborsClassifier\n",
    "from sklearn.naive_bayes import GaussianNB\n",
    "from sklearn.linear_model import Perceptron\n",
    "from sklearn.linear_model import SGDClassifier\n",
    "from sklearn.tree import DecisionTreeClassifier"
   ]
  },
  {
   "cell_type": "code",
   "execution_count": 2,
   "id": "45d3068b",
   "metadata": {
    "execution": {
     "iopub.execute_input": "2022-05-18T17:36:26.768728Z",
     "iopub.status.busy": "2022-05-18T17:36:26.768140Z",
     "iopub.status.idle": "2022-05-18T17:36:26.798485Z",
     "shell.execute_reply": "2022-05-18T17:36:26.797415Z"
    },
    "papermill": {
     "duration": 0.03941,
     "end_time": "2022-05-18T17:36:26.801017",
     "exception": false,
     "start_time": "2022-05-18T17:36:26.761607",
     "status": "completed"
    },
    "tags": []
   },
   "outputs": [],
   "source": [
    "test_df = pd.read_csv('../input/titanic/test.csv')\n",
    "train_df = pd.read_csv('../input/titanic/train.csv')\n",
    "conbine = [train_df, test_df]"
   ]
  },
  {
   "cell_type": "code",
   "execution_count": 3,
   "id": "4d0c84ca",
   "metadata": {
    "execution": {
     "iopub.execute_input": "2022-05-18T17:36:26.815670Z",
     "iopub.status.busy": "2022-05-18T17:36:26.815370Z",
     "iopub.status.idle": "2022-05-18T17:36:26.820441Z",
     "shell.execute_reply": "2022-05-18T17:36:26.819410Z"
    },
    "papermill": {
     "duration": 0.014795,
     "end_time": "2022-05-18T17:36:26.823287",
     "exception": false,
     "start_time": "2022-05-18T17:36:26.808492",
     "status": "completed"
    },
    "tags": []
   },
   "outputs": [
    {
     "name": "stdout",
     "output_type": "stream",
     "text": [
      "['PassengerId' 'Survived' 'Pclass' 'Name' 'Sex' 'Age' 'SibSp' 'Parch'\n",
      " 'Ticket' 'Fare' 'Cabin' 'Embarked']\n"
     ]
    }
   ],
   "source": [
    "print(train_df.columns.values)"
   ]
  },
  {
   "cell_type": "code",
   "execution_count": null,
   "id": "e266d041",
   "metadata": {
    "papermill": {
     "duration": 0.005433,
     "end_time": "2022-05-18T17:36:26.835438",
     "exception": false,
     "start_time": "2022-05-18T17:36:26.830005",
     "status": "completed"
    },
    "tags": []
   },
   "outputs": [],
   "source": []
  }
 ],
 "metadata": {
  "kernelspec": {
   "display_name": "Python 3",
   "language": "python",
   "name": "python3"
  },
  "language_info": {
   "codemirror_mode": {
    "name": "ipython",
    "version": 3
   },
   "file_extension": ".py",
   "mimetype": "text/x-python",
   "name": "python",
   "nbconvert_exporter": "python",
   "pygments_lexer": "ipython3",
   "version": "3.7.12"
  },
  "papermill": {
   "default_parameters": {},
   "duration": 12.666948,
   "end_time": "2022-05-18T17:36:27.566693",
   "environment_variables": {},
   "exception": null,
   "input_path": "__notebook__.ipynb",
   "output_path": "__notebook__.ipynb",
   "parameters": {},
   "start_time": "2022-05-18T17:36:14.899745",
   "version": "2.3.4"
  }
 },
 "nbformat": 4,
 "nbformat_minor": 5
}
